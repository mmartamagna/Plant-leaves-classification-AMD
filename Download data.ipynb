**RUN THE CNN MODELS WITHOUT DOWNLOADING THE IMAGES**

If you want to train the CNN without downloading the images from Kaggle, I made available on Google Drive the Numpy arrays containing the already pre-processed images (train, test, validation) and the respective labels.
The images are already resized (128x128) and normalized (/255.0). 

#connect to google drive
from google.colab import drive
drive.mount('/content/drive')
import numpy as np

# Define the directory path
directory_path = '/content/drive/MyDrive/Plant leaves/Plants_2/'

# Load the train, test and validation arrays
X_train = np.load(directory_path + 'X_train.npy')
y_train_binary = np.load(directory_path + 'y_train_binary.npy')
y_train_species = np.load(directory_path + 'y_train_species.npy')
y_train_complete = np.load(directory_path + 'y_train_complete.npy')

# Load the train, test and validation arrays
X_test = np.load(directory_path + 'X_test.npy')
y_test_binary = np.load(directory_path + 'y_test_binary.npy')
y_test_species = np.load(directory_path + 'y_test_species.npy')
y_test_complete = np.load(directory_path + 'y_test_complete.npy')

# Load the train, test and validation arrays
X_validation = np.load(directory_path + 'X_validation.npy')
y_valid_binary = np.load(directory_path + 'y_valid_binary.npy')
y_valid_species = np.load(directory_path + 'y_valid_species.npy')
y_valid_complete = np.load(directory_path + 'y_valid_complete.npy')
